{
 "cells": [
  {
   "cell_type": "code",
   "execution_count": 8,
   "id": "b3c75dbd",
   "metadata": {},
   "outputs": [
    {
     "data": {
      "text/plain": [
       "array([0])"
      ]
     },
     "execution_count": 8,
     "metadata": {},
     "output_type": "execute_result"
    }
   ],
   "source": [
    "import pandas as pd\n",
    "import numpy as np\n",
    "from sklearn.preprocessing import LabelEncoder\n",
    "#from sklearn.naive_bayes import GaussianNB\n",
    "from sklearn.preprocessing import StandardScaler\n",
    "from sklearn.impute import SimpleImputer\n",
    "df=pd.read_csv('odds.CSV')\n",
    "\n",
    "x=df.iloc[:,[0, 1]].values\n",
    "y=df.iloc[:, [-1]].values\n",
    "y = y.reshape(-1,1)\n",
    "\n",
    "le1 = LabelEncoder()\n",
    "x[:, 0] = le1.fit_transform(x[:, 0])\n",
    "\n",
    "\n",
    "#le2 = LabelEncoder()\n",
    "#x[:, 1] = le2.fit_transform(x[:, 1])\n",
    "\n",
    "\n",
    "#le3 = LabelEncoder()\n",
    "#y[:, -1] = le3.fit_transform(x[:, -1])\n",
    "\n",
    "\n",
    "\n",
    "y=y.astype('int')\n",
    "\n",
    "from sklearn.model_selection import train_test_split\n",
    "x_train, x_test, y_train, y_test = train_test_split(x,y,test_size=0.25, random_state=0)\n",
    "\n",
    "from sklearn.ensemble import RandomForestClassifier\n",
    "forest = RandomForestClassifier(n_estimators = 100, criterion = 'entropy', random_state=0)\n",
    "\n",
    "forest.fit(x_train, y_train.ravel())\n",
    "\n",
    "forest.score(x_train, y_train.ravel())\n",
    "\n",
    "forest.predict([[6, 2.37]])\n",
    "\n",
    "\n",
    "\n",
    "\n",
    "\n",
    "\n",
    "\n"
   ]
  },
  {
   "cell_type": "code",
   "execution_count": null,
   "id": "eb736516",
   "metadata": {},
   "outputs": [],
   "source": []
  },
  {
   "cell_type": "code",
   "execution_count": null,
   "id": "abba66e6",
   "metadata": {},
   "outputs": [],
   "source": []
  }
 ],
 "metadata": {
  "kernelspec": {
   "display_name": "Python 3 (ipykernel)",
   "language": "python",
   "name": "python3"
  },
  "language_info": {
   "codemirror_mode": {
    "name": "ipython",
    "version": 3
   },
   "file_extension": ".py",
   "mimetype": "text/x-python",
   "name": "python",
   "nbconvert_exporter": "python",
   "pygments_lexer": "ipython3",
   "version": "3.9.7"
  }
 },
 "nbformat": 4,
 "nbformat_minor": 5
}
